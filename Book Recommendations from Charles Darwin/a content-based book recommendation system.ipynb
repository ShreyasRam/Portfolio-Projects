{
 "cells": [
  {
   "cell_type": "markdown",
   "metadata": {
    "dc": {
     "key": "3"
    },
    "deletable": false,
    "editable": false,
    "run_control": {
     "frozen": true
    },
    "tags": [
     "context"
    ]
   },
   "source": [
    "###### 1. Darwin's bibliography\n"
   ]
  },
  {
   "cell_type": "markdown",
   "metadata": {},
   "source": [
    "# A content-based book recommendation system"
   ]
  },
  {
   "cell_type": "code",
   "execution_count": 13,
   "metadata": {},
   "outputs": [],
   "source": [
    "import sys\n",
    "sys.path.append('/Users/shreyas/.pyenv/versions/3.7.2/lib/python3.7/site-packages/')"
   ]
  },
  {
   "cell_type": "code",
   "execution_count": 1,
   "metadata": {
    "dc": {
     "key": "3"
    },
    "tags": [
     "sample_code"
    ]
   },
   "outputs": [],
   "source": [
    "# Import library\n",
    "import glob\n",
    "import os\n",
    "\n",
    "# The books files are contained in this folder\n",
    "folder = \"datasets/\"\n",
    "\n",
    "# List all the .txt files and sort them alphabetically\n",
    "files = glob.glob(os.path.join(folder,'*.txt'))\n",
    "\n",
    "files = sorted(files)"
   ]
  },
  {
   "cell_type": "code",
   "execution_count": 2,
   "metadata": {
    "dc": {
     "key": "3"
    }
   },
   "outputs": [
    {
     "data": {
      "text/plain": [
       "['datasets/Autobiography.txt',\n",
       " 'datasets/CoralReefs.txt',\n",
       " 'datasets/DescentofMan.txt',\n",
       " 'datasets/DifferentFormsofFlowers.txt',\n",
       " 'datasets/EffectsCrossSelfFertilization.txt',\n",
       " 'datasets/ExpressionofEmotionManAnimals.txt',\n",
       " 'datasets/FormationVegetableMould.txt',\n",
       " 'datasets/FoundationsOriginofSpecies.txt',\n",
       " 'datasets/GeologicalObservationsSouthAmerica.txt',\n",
       " 'datasets/InsectivorousPlants.txt']"
      ]
     },
     "execution_count": 2,
     "metadata": {},
     "output_type": "execute_result"
    }
   ],
   "source": [
    "files[:10]"
   ]
  },
  {
   "cell_type": "markdown",
   "metadata": {
    "dc": {
     "key": "10"
    },
    "deletable": false,
    "editable": false,
    "run_control": {
     "frozen": true
    },
    "tags": [
     "context"
    ]
   },
   "source": [
    "## 2. Load the contents of each book into Python\n",
    "<p>load the content of these books into Python and do some basic pre-processing."
   ]
  },
  {
   "cell_type": "code",
   "execution_count": 3,
   "metadata": {
    "dc": {
     "key": "10"
    },
    "tags": [
     "sample_code"
    ]
   },
   "outputs": [
    {
     "data": {
      "text/plain": [
       "[17,\n",
       " 14,\n",
       " 16,\n",
       " 27,\n",
       " 33,\n",
       " 33,\n",
       " 27,\n",
       " 30,\n",
       " 38,\n",
       " 23,\n",
       " 22,\n",
       " 22,\n",
       " 23,\n",
       " 27,\n",
       " 26,\n",
       " 19,\n",
       " 23,\n",
       " 39,\n",
       " 19,\n",
       " 16]"
      ]
     },
     "execution_count": 3,
     "metadata": {},
     "output_type": "execute_result"
    }
   ],
   "source": [
    "# Import libraries\n",
    "import re, os\n",
    "\n",
    "# Initialize the object that will contain the texts and titles\n",
    "txts = []\n",
    "titles = []\n",
    "\n",
    "for n in files:\n",
    "    # Open each file\n",
    "    f = open(n, encoding='utf-8-sig')\n",
    "    # Remove all non-alpha-numeric characters\n",
    "    pattern = re.compile('[\\W\\D]+')\n",
    "    char = pattern.sub('',f.read())\n",
    "    # Store the texts and titles of the books in two separate lists\n",
    "    text = os.path.basename(n)\n",
    "    txts.append(text)\n",
    "    titles.append(text.replace(\".txt\", \"\"))\n",
    "\n",
    "# Print the length, in characters, of each book\n",
    "[len(t) for t in txts]"
   ]
  },
  {
   "cell_type": "code",
   "execution_count": 4,
   "metadata": {
    "dc": {
     "key": "10"
    }
   },
   "outputs": [
    {
     "data": {
      "text/plain": [
       "['Autobiography',\n",
       " 'CoralReefs',\n",
       " 'DescentofMan',\n",
       " 'DifferentFormsofFlowers',\n",
       " 'EffectsCrossSelfFertilization',\n",
       " 'ExpressionofEmotionManAnimals',\n",
       " 'FormationVegetableMould',\n",
       " 'FoundationsOriginofSpecies',\n",
       " 'GeologicalObservationsSouthAmerica',\n",
       " 'InsectivorousPlants',\n",
       " 'LifeandLettersVol1',\n",
       " 'LifeandLettersVol2',\n",
       " 'MonographCirripedia',\n",
       " 'MonographCirripediaVol2',\n",
       " 'MovementClimbingPlants',\n",
       " 'OriginofSpecies',\n",
       " 'PowerMovementPlants',\n",
       " 'VariationPlantsAnimalsDomestication',\n",
       " 'VolcanicIslands',\n",
       " 'VoyageBeagle']"
      ]
     },
     "execution_count": 4,
     "metadata": {},
     "output_type": "execute_result"
    }
   ],
   "source": [
    "titles"
   ]
  },
  {
   "cell_type": "code",
   "execution_count": 5,
   "metadata": {
    "dc": {
     "key": "17"
    }
   },
   "outputs": [
    {
     "data": {
      "text/plain": [
       "['Autobiography.txt',\n",
       " 'CoralReefs.txt',\n",
       " 'DescentofMan.txt',\n",
       " 'DifferentFormsofFlowers.txt',\n",
       " 'EffectsCrossSelfFertilization.txt',\n",
       " 'ExpressionofEmotionManAnimals.txt',\n",
       " 'FormationVegetableMould.txt',\n",
       " 'FoundationsOriginofSpecies.txt',\n",
       " 'GeologicalObservationsSouthAmerica.txt',\n",
       " 'InsectivorousPlants.txt',\n",
       " 'LifeandLettersVol1.txt',\n",
       " 'LifeandLettersVol2.txt',\n",
       " 'MonographCirripedia.txt',\n",
       " 'MonographCirripediaVol2.txt',\n",
       " 'MovementClimbingPlants.txt',\n",
       " 'OriginofSpecies.txt',\n",
       " 'PowerMovementPlants.txt',\n",
       " 'VariationPlantsAnimalsDomestication.txt',\n",
       " 'VolcanicIslands.txt',\n",
       " 'VoyageBeagle.txt']"
      ]
     },
     "execution_count": 5,
     "metadata": {},
     "output_type": "execute_result"
    }
   ],
   "source": [
    "txts"
   ]
  },
  {
   "cell_type": "markdown",
   "metadata": {
    "dc": {
     "key": "17"
    },
    "deletable": false,
    "editable": false,
    "run_control": {
     "frozen": true
    },
    "tags": [
     "context"
    ]
   },
   "source": [
    "## 3. Find \"On the Origin of Species\"\n",
    " For consistency, we will refer to Darwin's most famous book: \"<em>On the Origin of Species</em>.\"</p>"
   ]
  },
  {
   "cell_type": "code",
   "execution_count": 6,
   "metadata": {
    "dc": {
     "key": "17"
    },
    "tags": [
     "sample_code"
    ]
   },
   "outputs": [
    {
     "name": "stdout",
     "output_type": "stream",
     "text": [
      "15\n"
     ]
    }
   ],
   "source": [
    "# Browse the list containing all the titles\n",
    "ori = None\n",
    "for i in range(len(titles)):\n",
    "    # Store the index if the title is \"OriginofSpecies\"\n",
    "    if titles[i] == \"OriginofSpecies\":\n",
    "        ori = i\n",
    "\n",
    "# Print the stored index\n",
    "print(ori)"
   ]
  },
  {
   "cell_type": "markdown",
   "metadata": {
    "dc": {
     "key": "24"
    },
    "deletable": false,
    "editable": false,
    "run_control": {
     "frozen": true
    },
    "tags": [
     "context"
    ]
   },
   "source": [
    "## 4. Tokenize the corpus\n"
   ]
  },
  {
   "cell_type": "code",
   "execution_count": null,
   "metadata": {
    "dc": {
     "key": "24"
    }
   },
   "outputs": [],
   "source": []
  },
  {
   "cell_type": "code",
   "execution_count": 7,
   "metadata": {
    "dc": {
     "key": "24"
    },
    "tags": [
     "sample_code"
    ]
   },
   "outputs": [
    {
     "name": "stdout",
     "output_type": "stream",
     "text": [
      "['on', 'origin', 'species.', '*', '*', '*', '*', '*', '\"but', 'with', 'regard', 'material', 'world,', 'can', 'least', 'go', 'so', 'far', 'this--we', 'can']\n"
     ]
    }
   ],
   "source": [
    "# Define a list of stop words\n",
    "stoplist = set('for a of the and to in to be which some is at that we i who whom show via may my our might as well'.split())\n",
    "\n",
    "# Convert the text to lower case \n",
    "txts_lower_case = [open(i, 'rt').read().lower() for i in files]\n",
    "\n",
    "# Transform the text into tokens \n",
    "txts_split = [i.split() for i in txts_lower_case]\n",
    "# txts_split[15]\n",
    "# Remove tokens which are part of the list of stop words\n",
    "texts = [[word for word in txt if word not in stoplist] for txt in txts_split]\n",
    "\n",
    "# Print the first 20 tokens for the \"On the Origin of Species\" book\n",
    "print(texts[15][:20])"
   ]
  },
  {
   "cell_type": "markdown",
   "metadata": {
    "dc": {
     "key": "31"
    },
    "deletable": false,
    "editable": false,
    "run_control": {
     "frozen": true
    },
    "tags": [
     "context"
    ]
   },
   "source": [
    "## 5. Stemming of the tokenized corpus\n"]
  },
  {
   "cell_type": "code",
   "execution_count": 9,
   "metadata": {},
   "outputs": [],
   "source": [
    "# Load the Porter stemming function from the nltk package\n",
    "from nltk.stem import PorterStemmer\n",
    "\n",
    "# Create an instance of a PorterStemmer object\n",
    "porter = PorterStemmer()\n",
    "\n",
    "# For each token of each text, we generated its stem \n",
    "texts_stem = [[porter.stem(token) for token in text] for text in texts]\n",
    "\n",
    "# # Save to pickle file\n",
    "# pickle.dump( texts_stem, open( \"datasets/texts_stem.p\", \"wb\" ) )"
   ]
  },
  {
   "cell_type": "code",
   "execution_count": 10,
   "metadata": {
    "dc": {
     "key": "31"
    },
    "tags": [
     "sample_code"
    ]
   },
   "outputs": [
    {
     "name": "stdout",
     "output_type": "stream",
     "text": [
      "['on', 'origin', 'species.', '*', '*', '*', '*', '*', '\"but', 'with', 'regard', 'materi', 'world,', 'can', 'least', 'go', 'so', 'far', 'this--w', 'can']\n"
     ]
    }
   ],
   "source": [
    "# import pickle\n",
    "\n",
    "# # Load the stemmed tokens list from the pregenerated pickle file\n",
    "# stem_tokens = open('datasets/texts_stem.p','rb')\n",
    "# texts_stem = pickle.load(stem_tokens)\n",
    "\n",
    "# Print the 20 first stemmed tokens from the \"On the Origin of Species\" book\n",
    "print(texts_stem[15][:20])"
   ]
  },
  {
   "cell_type": "markdown",
   "metadata": {
    "dc": {
     "key": "38"
    },
    "deletable": false,
    "editable": false,
    "run_control": {
     "frozen": true
    },
    "tags": [
     "context"
    ]
   },
   "source": [
    "## 6. Building a bag-of-words model\n"]
  },
  {
   "cell_type": "code",
   "execution_count": 14,
   "metadata": {
    "dc": {
     "key": "38"
    },
    "tags": [
     "sample_code"
    ]
   },
   "outputs": [
    {
     "name": "stdout",
     "output_type": "stream",
     "text": [
      "\"it\n"
     ]
    },
    {
     "data": {
      "text/plain": [
       "[(0, 3), (8, 1), (14, 1), (15, 1), (25, 1)]"
      ]
     },
     "execution_count": 14,
     "metadata": {},
     "output_type": "execute_result"
    }
   ],
   "source": [
    "# Load the functions allowing to create and use dictionaries\n",
    "from gensim import corpora\n",
    "\n",
    "# Create a dictionary from the stemmed tokens\n",
    "dictionary = corpora.Dictionary(texts_stem)\n",
    "print(dictionary[15])\n",
    "# Create a bag-of-words model for each book, using the previously generated dictionary\n",
    "bows = [dictionary.doc2bow(text) for text in texts_stem]\n",
    "\n",
    "# Print the first five elements of the On the Origin of species' BoW model\n",
    "bows[15][:5]"
   ]
  },
  {
   "cell_type": "markdown",
   "metadata": {
    "dc": {
     "key": "45"
    },
    "deletable": false,
    "editable": false,
    "run_control": {
     "frozen": true
    },
    "tags": [
     "context"
    ]
   },
   "source": [
    "## 7. The most common words of a given book\n"
    ]
  },
  {
   "cell_type": "code",
   "execution_count": 15,
   "metadata": {
    "dc": {
     "key": "45"
    },
    "tags": [
     "sample_code"
    ]
   },
   "outputs": [
    {
     "data": {
      "text/html": [
       "<div>\n",
       "<style scoped>\n",
       "    .dataframe tbody tr th:only-of-type {\n",
       "        vertical-align: middle;\n",
       "    }\n",
       "\n",
       "    .dataframe tbody tr th {\n",
       "        vertical-align: top;\n",
       "    }\n",
       "\n",
       "    .dataframe thead th {\n",
       "        text-align: right;\n",
       "    }\n",
       "</style>\n",
       "<table border=\"1\" class=\"dataframe\">\n",
       "  <thead>\n",
       "    <tr style=\"text-align: right;\">\n",
       "      <th></th>\n",
       "      <th>index</th>\n",
       "      <th>occurrences</th>\n",
       "      <th>token</th>\n",
       "    </tr>\n",
       "  </thead>\n",
       "  <tbody>\n",
       "    <tr>\n",
       "      <th>851</th>\n",
       "      <td>1831</td>\n",
       "      <td>2000</td>\n",
       "      <td>have</td>\n",
       "    </tr>\n",
       "    <tr>\n",
       "      <th>1318</th>\n",
       "      <td>2709</td>\n",
       "      <td>1486</td>\n",
       "      <td>on</td>\n",
       "    </tr>\n",
       "    <tr>\n",
       "      <th>1025</th>\n",
       "      <td>2123</td>\n",
       "      <td>1423</td>\n",
       "      <td>it</td>\n",
       "    </tr>\n",
       "    <tr>\n",
       "      <th>269</th>\n",
       "      <td>707</td>\n",
       "      <td>1350</td>\n",
       "      <td>by</td>\n",
       "    </tr>\n",
       "    <tr>\n",
       "      <th>1336</th>\n",
       "      <td>2734</td>\n",
       "      <td>1173</td>\n",
       "      <td>or</td>\n",
       "    </tr>\n",
       "    <tr>\n",
       "      <th>757</th>\n",
       "      <td>1655</td>\n",
       "      <td>1131</td>\n",
       "      <td>from</td>\n",
       "    </tr>\n",
       "    <tr>\n",
       "      <th>152</th>\n",
       "      <td>461</td>\n",
       "      <td>1114</td>\n",
       "      <td>are</td>\n",
       "    </tr>\n",
       "    <tr>\n",
       "      <th>2088</th>\n",
       "      <td>4151</td>\n",
       "      <td>991</td>\n",
       "      <td>with</td>\n",
       "    </tr>\n",
       "    <tr>\n",
       "      <th>201</th>\n",
       "      <td>568</td>\n",
       "      <td>932</td>\n",
       "      <td>been</td>\n",
       "    </tr>\n",
       "    <tr>\n",
       "      <th>1881</th>\n",
       "      <td>3782</td>\n",
       "      <td>916</td>\n",
       "      <td>thi</td>\n",
       "    </tr>\n",
       "  </tbody>\n",
       "</table>\n",
       "</div>"
      ],
      "text/plain": [
       "      index  occurrences token\n",
       "851    1831         2000  have\n",
       "1318   2709         1486    on\n",
       "1025   2123         1423    it\n",
       "269     707         1350    by\n",
       "1336   2734         1173    or\n",
       "757    1655         1131  from\n",
       "152     461         1114   are\n",
       "2088   4151          991  with\n",
       "201     568          932  been\n",
       "1881   3782          916   thi"
      ]
     },
     "execution_count": 15,
     "metadata": {},
     "output_type": "execute_result"
    }
   ],
   "source": [
    "# Import pandas to create and manipulate DataFrames\n",
    "import pandas as pd\n",
    "\n",
    "# Convert the BoW model for \"On the Origin of Species\" into a DataFrame\n",
    "df_bow_origin = pd.DataFrame(bows[15])\n",
    "\n",
    "# Add the column names to the DataFrame\n",
    "df_bow_origin.columns = ['index','occurrences']\n",
    "\n",
    "# Add a column containing the token corresponding to the dictionary index\n",
    "df_bow_origin['token'] = [dictionary[index] for index in df_bow_origin[\"index\"]]\n",
    "\n",
    "# Sort the DataFrame by descending number of occurrences and print the first 10 values\n",
    "df_bow_origin.sort_values('occurrences', ascending = False)[:10]"
   ]
  },
  {
   "cell_type": "markdown",
   "metadata": {
    "dc": {
     "key": "52"
    },
    "deletable": false,
    "editable": false,
    "run_control": {
     "frozen": true
    },
    "tags": [
     "context"
    ]
   },
   "source": [
    "## Building a tf-idf model\n"]
  },
  {
   "cell_type": "code",
   "execution_count": 17,
   "metadata": {
    "dc": {
     "key": "52"
    },
    "tags": [
     "sample_code"
    ]
   },
   "outputs": [
    {
     "name": "stdout",
     "output_type": "stream",
     "text": [
      "[(0, 0.0003275493687410397), (8, 0.0006195272520099707), (14, 0.0006195272520099707), (15, 0.0004464122426050609), (25, 0.0001091831229136799)]\n"
     ]
    }
   ],
   "source": [
    "# Load the gensim functions that will allow us to generate tf-idf models\n",
    "from gensim.models import TfidfModel\n",
    "\n",
    "# Generate the tf-idf model\n",
    "model = TfidfModel(bows)\n",
    "\n",
    "# Print the model for \"On the Origin of Species\"\n",
    "print(model[bows[15]][:5])"
   ]
  },
  {
   "cell_type": "markdown",
   "metadata": {
    "dc": {
     "key": "59"
    },
    "deletable": false,
    "editable": false,
    "run_control": {
     "frozen": true
    },
    "tags": [
     "context"
    ]
   },
   "source": [
    "## The results of the tf-idf model\n"]
  },
  {
   "cell_type": "code",
   "execution_count": 18,
   "metadata": {
    "dc": {
     "key": "59"
    },
    "tags": [
     "sample_code"
    ]
   },
   "outputs": [
    {
     "data": {
      "text/html": [
       "<div>\n",
       "<style scoped>\n",
       "    .dataframe tbody tr th:only-of-type {\n",
       "        vertical-align: middle;\n",
       "    }\n",
       "\n",
       "    .dataframe tbody tr th {\n",
       "        vertical-align: top;\n",
       "    }\n",
       "\n",
       "    .dataframe thead th {\n",
       "        text-align: right;\n",
       "    }\n",
       "</style>\n",
       "<table border=\"1\" class=\"dataframe\">\n",
       "  <thead>\n",
       "    <tr style=\"text-align: right;\">\n",
       "      <th></th>\n",
       "      <th>id</th>\n",
       "      <th>score</th>\n",
       "      <th>token</th>\n",
       "    </tr>\n",
       "  </thead>\n",
       "  <tbody>\n",
       "    <tr>\n",
       "      <th>8768</th>\n",
       "      <td>91777</td>\n",
       "      <td>0.831985</td>\n",
       "      <td>----,</td>\n",
       "    </tr>\n",
       "    <tr>\n",
       "      <th>6545</th>\n",
       "      <td>40441</td>\n",
       "      <td>0.142222</td>\n",
       "      <td>----</td>\n",
       "    </tr>\n",
       "    <tr>\n",
       "      <th>5962</th>\n",
       "      <td>32114</td>\n",
       "      <td>0.103435</td>\n",
       "      <td>*</td>\n",
       "    </tr>\n",
       "    <tr>\n",
       "      <th>1141</th>\n",
       "      <td>3355</td>\n",
       "      <td>0.085381</td>\n",
       "      <td>select</td>\n",
       "    </tr>\n",
       "    <tr>\n",
       "      <th>356</th>\n",
       "      <td>1223</td>\n",
       "      <td>0.073212</td>\n",
       "      <td>domest</td>\n",
       "    </tr>\n",
       "    <tr>\n",
       "      <th>169</th>\n",
       "      <td>674</td>\n",
       "      <td>0.072522</td>\n",
       "      <td>breed</td>\n",
       "    </tr>\n",
       "    <tr>\n",
       "      <th>1233</th>\n",
       "      <td>3606</td>\n",
       "      <td>0.066909</td>\n",
       "      <td>steril</td>\n",
       "    </tr>\n",
       "    <tr>\n",
       "      <th>559</th>\n",
       "      <td>1729</td>\n",
       "      <td>0.060923</td>\n",
       "      <td>glacial</td>\n",
       "    </tr>\n",
       "    <tr>\n",
       "      <th>1142</th>\n",
       "      <td>3356</td>\n",
       "      <td>0.060876</td>\n",
       "      <td>selection,</td>\n",
       "    </tr>\n",
       "    <tr>\n",
       "      <th>4794</th>\n",
       "      <td>24145</td>\n",
       "      <td>0.056023</td>\n",
       "      <td>migrat</td>\n",
       "    </tr>\n",
       "  </tbody>\n",
       "</table>\n",
       "</div>"
      ],
      "text/plain": [
       "         id     score       token\n",
       "8768  91777  0.831985       ----,\n",
       "6545  40441  0.142222        ----\n",
       "5962  32114  0.103435           *\n",
       "1141   3355  0.085381      select\n",
       "356    1223  0.073212      domest\n",
       "169     674  0.072522       breed\n",
       "1233   3606  0.066909      steril\n",
       "559    1729  0.060923     glacial\n",
       "1142   3356  0.060876  selection,\n",
       "4794  24145  0.056023      migrat"
      ]
     },
     "execution_count": 18,
     "metadata": {},
     "output_type": "execute_result"
    }
   ],
   "source": [
    "# Convert the tf-idf model for \"On the Origin of Species\" into a DataFrame\n",
    "df_tfidf = pd.DataFrame(model[bows[15]])\n",
    "\n",
    "# Name the columns of the DataFrame id and score\n",
    "df_tfidf.columns = ['id','score']\n",
    "\n",
    "# Add the tokens corresponding to the numerical indices for better readability\n",
    "df_tfidf['token'] = [dictionary[index] for index in df_tfidf[\"id\"]]\n",
    "\n",
    "\n",
    "# Sort the DataFrame by descending tf-idf score and print the first 10 rows.\n",
    "df_tfidf.sort_values('score', ascending = False)[:10]"
   ]
  },
  {
   "cell_type": "markdown",
   "metadata": {
    "dc": {
     "key": "66"
    },
    "deletable": false,
    "editable": false,
    "run_control": {
     "frozen": true
    },
    "tags": [
     "context"
    ]
   },
   "source": [
    "## 10. Compute distance between texts\n",
    "<p>The results of the tf-idf algorithm now return stemmed tokens which are specific to each book. We can, for example, see that topics such as selection, breeding or domestication are defining \"<em>On the Origin of Species</em>\" (and yes, in this book, Charles Darwin talks quite a lot about pigeons too). Now that we have a model associating tokens to how specific they are to each book, we can measure how related to books are between each other.</p>\n",
    "<p>To this purpose, we will use a measure of similarity called <strong>cosine similarity</strong> and we will visualize the results as a distance matrix, i.e., a matrix showing all pairwise distances between Darwin's books.</p>"
   ]
  },
  {
   "cell_type": "code",
   "execution_count": 21,
   "metadata": {
    "dc": {
     "key": "66"
    },
    "tags": [
     "sample_code"
    ]
   },
   "outputs": [
    {
     "data": {
      "text/html": [
       "<div>\n",
       "<style scoped>\n",
       "    .dataframe tbody tr th:only-of-type {\n",
       "        vertical-align: middle;\n",
       "    }\n",
       "\n",
       "    .dataframe tbody tr th {\n",
       "        vertical-align: top;\n",
       "    }\n",
       "\n",
       "    .dataframe thead th {\n",
       "        text-align: right;\n",
       "    }\n",
       "</style>\n",
       "<table border=\"1\" class=\"dataframe\">\n",
       "  <thead>\n",
       "    <tr style=\"text-align: right;\">\n",
       "      <th></th>\n",
       "      <th>Autobiography</th>\n",
       "      <th>CoralReefs</th>\n",
       "      <th>DescentofMan</th>\n",
       "      <th>DifferentFormsofFlowers</th>\n",
       "      <th>EffectsCrossSelfFertilization</th>\n",
       "      <th>ExpressionofEmotionManAnimals</th>\n",
       "      <th>FormationVegetableMould</th>\n",
       "      <th>FoundationsOriginofSpecies</th>\n",
       "      <th>GeologicalObservationsSouthAmerica</th>\n",
       "      <th>InsectivorousPlants</th>\n",
       "      <th>LifeandLettersVol1</th>\n",
       "      <th>LifeandLettersVol2</th>\n",
       "      <th>MonographCirripedia</th>\n",
       "      <th>MonographCirripediaVol2</th>\n",
       "      <th>MovementClimbingPlants</th>\n",
       "      <th>OriginofSpecies</th>\n",
       "      <th>PowerMovementPlants</th>\n",
       "      <th>VariationPlantsAnimalsDomestication</th>\n",
       "      <th>VolcanicIslands</th>\n",
       "      <th>VoyageBeagle</th>\n",
       "    </tr>\n",
       "  </thead>\n",
       "  <tbody>\n",
       "    <tr>\n",
       "      <th>Autobiography</th>\n",
       "      <td>1.000000</td>\n",
       "      <td>0.022216</td>\n",
       "      <td>0.061752</td>\n",
       "      <td>0.020368</td>\n",
       "      <td>0.015065</td>\n",
       "      <td>0.046792</td>\n",
       "      <td>0.025445</td>\n",
       "      <td>0.019412</td>\n",
       "      <td>0.022570</td>\n",
       "      <td>0.007820</td>\n",
       "      <td>0.331796</td>\n",
       "      <td>0.184490</td>\n",
       "      <td>0.005543</td>\n",
       "      <td>0.007208</td>\n",
       "      <td>0.015698</td>\n",
       "      <td>0.038278</td>\n",
       "      <td>0.006990</td>\n",
       "      <td>0.016540</td>\n",
       "      <td>0.030561</td>\n",
       "      <td>0.123630</td>\n",
       "    </tr>\n",
       "    <tr>\n",
       "      <th>CoralReefs</th>\n",
       "      <td>0.022216</td>\n",
       "      <td>1.000000</td>\n",
       "      <td>0.009091</td>\n",
       "      <td>0.001608</td>\n",
       "      <td>0.001094</td>\n",
       "      <td>0.004537</td>\n",
       "      <td>0.021265</td>\n",
       "      <td>0.008094</td>\n",
       "      <td>0.059506</td>\n",
       "      <td>0.002466</td>\n",
       "      <td>0.028519</td>\n",
       "      <td>0.016729</td>\n",
       "      <td>0.006480</td>\n",
       "      <td>0.009070</td>\n",
       "      <td>0.002536</td>\n",
       "      <td>0.016879</td>\n",
       "      <td>0.002246</td>\n",
       "      <td>0.004633</td>\n",
       "      <td>0.057725</td>\n",
       "      <td>0.163912</td>\n",
       "    </tr>\n",
       "    <tr>\n",
       "      <th>DescentofMan</th>\n",
       "      <td>0.061752</td>\n",
       "      <td>0.009091</td>\n",
       "      <td>1.000000</td>\n",
       "      <td>0.028243</td>\n",
       "      <td>0.009309</td>\n",
       "      <td>0.091240</td>\n",
       "      <td>0.027157</td>\n",
       "      <td>0.047206</td>\n",
       "      <td>0.012841</td>\n",
       "      <td>0.009540</td>\n",
       "      <td>0.051233</td>\n",
       "      <td>0.060678</td>\n",
       "      <td>0.042236</td>\n",
       "      <td>0.030280</td>\n",
       "      <td>0.007884</td>\n",
       "      <td>0.098939</td>\n",
       "      <td>0.009202</td>\n",
       "      <td>0.075369</td>\n",
       "      <td>0.011085</td>\n",
       "      <td>0.097757</td>\n",
       "    </tr>\n",
       "    <tr>\n",
       "      <th>DifferentFormsofFlowers</th>\n",
       "      <td>0.020368</td>\n",
       "      <td>0.001608</td>\n",
       "      <td>0.028243</td>\n",
       "      <td>1.000000</td>\n",
       "      <td>0.435059</td>\n",
       "      <td>0.002642</td>\n",
       "      <td>0.005926</td>\n",
       "      <td>0.007437</td>\n",
       "      <td>0.015193</td>\n",
       "      <td>0.028427</td>\n",
       "      <td>0.007328</td>\n",
       "      <td>0.019620</td>\n",
       "      <td>0.004611</td>\n",
       "      <td>0.003155</td>\n",
       "      <td>0.006395</td>\n",
       "      <td>0.030445</td>\n",
       "      <td>0.008783</td>\n",
       "      <td>0.019064</td>\n",
       "      <td>0.003138</td>\n",
       "      <td>0.007722</td>\n",
       "    </tr>\n",
       "    <tr>\n",
       "      <th>EffectsCrossSelfFertilization</th>\n",
       "      <td>0.015065</td>\n",
       "      <td>0.001094</td>\n",
       "      <td>0.009309</td>\n",
       "      <td>0.435059</td>\n",
       "      <td>1.000000</td>\n",
       "      <td>0.001983</td>\n",
       "      <td>0.014741</td>\n",
       "      <td>0.005388</td>\n",
       "      <td>0.023251</td>\n",
       "      <td>0.048217</td>\n",
       "      <td>0.005831</td>\n",
       "      <td>0.011901</td>\n",
       "      <td>0.001670</td>\n",
       "      <td>0.001639</td>\n",
       "      <td>0.007748</td>\n",
       "      <td>0.023218</td>\n",
       "      <td>0.014657</td>\n",
       "      <td>0.023606</td>\n",
       "      <td>0.001848</td>\n",
       "      <td>0.007032</td>\n",
       "    </tr>\n",
       "  </tbody>\n",
       "</table>\n",
       "</div>"
      ],
      "text/plain": [
       "                               Autobiography  CoralReefs  DescentofMan  \\\n",
       "Autobiography                       1.000000    0.022216      0.061752   \n",
       "CoralReefs                          0.022216    1.000000      0.009091   \n",
       "DescentofMan                        0.061752    0.009091      1.000000   \n",
       "DifferentFormsofFlowers             0.020368    0.001608      0.028243   \n",
       "EffectsCrossSelfFertilization       0.015065    0.001094      0.009309   \n",
       "\n",
       "                               DifferentFormsofFlowers  \\\n",
       "Autobiography                                 0.020368   \n",
       "CoralReefs                                    0.001608   \n",
       "DescentofMan                                  0.028243   \n",
       "DifferentFormsofFlowers                       1.000000   \n",
       "EffectsCrossSelfFertilization                 0.435059   \n",
       "\n",
       "                               EffectsCrossSelfFertilization  \\\n",
       "Autobiography                                       0.015065   \n",
       "CoralReefs                                          0.001094   \n",
       "DescentofMan                                        0.009309   \n",
       "DifferentFormsofFlowers                             0.435059   \n",
       "EffectsCrossSelfFertilization                       1.000000   \n",
       "\n",
       "                               ExpressionofEmotionManAnimals  \\\n",
       "Autobiography                                       0.046792   \n",
       "CoralReefs                                          0.004537   \n",
       "DescentofMan                                        0.091240   \n",
       "DifferentFormsofFlowers                             0.002642   \n",
       "EffectsCrossSelfFertilization                       0.001983   \n",
       "\n",
       "                               FormationVegetableMould  \\\n",
       "Autobiography                                 0.025445   \n",
       "CoralReefs                                    0.021265   \n",
       "DescentofMan                                  0.027157   \n",
       "DifferentFormsofFlowers                       0.005926   \n",
       "EffectsCrossSelfFertilization                 0.014741   \n",
       "\n",
       "                               FoundationsOriginofSpecies  \\\n",
       "Autobiography                                    0.019412   \n",
       "CoralReefs                                       0.008094   \n",
       "DescentofMan                                     0.047206   \n",
       "DifferentFormsofFlowers                          0.007437   \n",
       "EffectsCrossSelfFertilization                    0.005388   \n",
       "\n",
       "                               GeologicalObservationsSouthAmerica  \\\n",
       "Autobiography                                            0.022570   \n",
       "CoralReefs                                               0.059506   \n",
       "DescentofMan                                             0.012841   \n",
       "DifferentFormsofFlowers                                  0.015193   \n",
       "EffectsCrossSelfFertilization                            0.023251   \n",
       "\n",
       "                               InsectivorousPlants  LifeandLettersVol1  \\\n",
       "Autobiography                             0.007820            0.331796   \n",
       "CoralReefs                                0.002466            0.028519   \n",
       "DescentofMan                              0.009540            0.051233   \n",
       "DifferentFormsofFlowers                   0.028427            0.007328   \n",
       "EffectsCrossSelfFertilization             0.048217            0.005831   \n",
       "\n",
       "                               LifeandLettersVol2  MonographCirripedia  \\\n",
       "Autobiography                            0.184490             0.005543   \n",
       "CoralReefs                               0.016729             0.006480   \n",
       "DescentofMan                             0.060678             0.042236   \n",
       "DifferentFormsofFlowers                  0.019620             0.004611   \n",
       "EffectsCrossSelfFertilization            0.011901             0.001670   \n",
       "\n",
       "                               MonographCirripediaVol2  \\\n",
       "Autobiography                                 0.007208   \n",
       "CoralReefs                                    0.009070   \n",
       "DescentofMan                                  0.030280   \n",
       "DifferentFormsofFlowers                       0.003155   \n",
       "EffectsCrossSelfFertilization                 0.001639   \n",
       "\n",
       "                               MovementClimbingPlants  OriginofSpecies  \\\n",
       "Autobiography                                0.015698         0.038278   \n",
       "CoralReefs                                   0.002536         0.016879   \n",
       "DescentofMan                                 0.007884         0.098939   \n",
       "DifferentFormsofFlowers                      0.006395         0.030445   \n",
       "EffectsCrossSelfFertilization                0.007748         0.023218   \n",
       "\n",
       "                               PowerMovementPlants  \\\n",
       "Autobiography                             0.006990   \n",
       "CoralReefs                                0.002246   \n",
       "DescentofMan                              0.009202   \n",
       "DifferentFormsofFlowers                   0.008783   \n",
       "EffectsCrossSelfFertilization             0.014657   \n",
       "\n",
       "                               VariationPlantsAnimalsDomestication  \\\n",
       "Autobiography                                             0.016540   \n",
       "CoralReefs                                                0.004633   \n",
       "DescentofMan                                              0.075369   \n",
       "DifferentFormsofFlowers                                   0.019064   \n",
       "EffectsCrossSelfFertilization                             0.023606   \n",
       "\n",
       "                               VolcanicIslands  VoyageBeagle  \n",
       "Autobiography                         0.030561      0.123630  \n",
       "CoralReefs                            0.057725      0.163912  \n",
       "DescentofMan                          0.011085      0.097757  \n",
       "DifferentFormsofFlowers               0.003138      0.007722  \n",
       "EffectsCrossSelfFertilization         0.001848      0.007032  "
      ]
     },
     "execution_count": 21,
     "metadata": {},
     "output_type": "execute_result"
    }
   ],
   "source": [
    "# Load the library allowing similarity computations\n",
    "from gensim import similarities\n",
    "\n",
    "# Compute the similarity matrix (pairwise distance between all texts)\n",
    "sims = similarities.MatrixSimilarity(model[bows])\n",
    "\n",
    "# Transform the resulting list into a dataframe\n",
    "sim_df = pd.DataFrame(list(sims))\n",
    "\n",
    "# Add the titles of the books as columns and index of the dataframe\n",
    "sim_df.columns = titles\n",
    "sim_df.index = titles\n",
    "\n",
    "# Print the resulting matrix\n",
    "sim_df.head()"
   ]
  },
  {
   "cell_type": "markdown",
   "metadata": {
    "dc": {
     "key": "73"
    },
    "deletable": false,
    "editable": false,
    "run_control": {
     "frozen": true
    },
    "tags": [
     "context"
    ]
   },
   "source": [
    "##The book most similar to \"On the Origin of Species\"\n"]
  },
  {
   "cell_type": "code",
   "execution_count": 22,
   "metadata": {
    "dc": {
     "key": "73"
    },
    "tags": [
     "sample_code"
    ]
   },
   "outputs": [
    {
     "data": {
      "text/plain": [
       "<matplotlib.axes._subplots.AxesSubplot at 0x1a31af3e10>"
      ]
     },
     "execution_count": 22,
     "metadata": {},
     "output_type": "execute_result"
    },
    {
     "data": {
      "image/png": "[encoded data removed]",
      "text/plain": [
       "<Figure size 432x288 with 1 Axes>"
      ]
     },
     "metadata": {
      "needs_background": "light"
     },
     "output_type": "display_data"
    }
   ],
   "source": [
    "# This is needed to display plots in a notebook\n",
    "%matplotlib inline\n",
    "\n",
    "# Import libraries\n",
    "import matplotlib.pyplot as plt\n",
    "\n",
    "# Select the column corresponding to \"On the Origin of Species\" and \n",
    "v = sim_df['OriginofSpecies']\n",
    "\n",
    "# Sort by ascending scores\n",
    "v_sorted = v.sort_values()\n",
    "\n",
    "# Plot this data has a horizontal bar plot\n",
    "v_sorted.plot.barh()"
   ]
  },
  {
   "cell_type": "markdown",
   "metadata": {
    "dc": {
     "key": "80"
    },
    "deletable": false,
    "editable": false,
    "run_control": {
     "frozen": true
    },
    "tags": [
     "context"
    ]
   },
   "source": [
    "##Which books have similar content?\n"]
  },
  {
   "cell_type": "code",
   "execution_count": 33,
   "metadata": {
    "dc": {
     "key": "80"
    },
    "scrolled": true,
    "tags": [
     "sample_code"
    ]
   },
   "outputs": [
    {
     "data": {
      "text/plain": [
       "{'icoord': [[35.0, 35.0, 45.0, 45.0],\n",
       "  [25.0, 25.0, 40.0, 40.0],\n",
       "  [15.0, 15.0, 32.5, 32.5],\n",
       "  [55.0, 55.0, 65.0, 65.0],\n",
       "  [85.0, 85.0, 95.0, 95.0],\n",
       "  [75.0, 75.0, 90.0, 90.0],\n",
       "  [60.0, 60.0, 82.5, 82.5],\n",
       "  [115.0, 115.0, 125.0, 125.0],\n",
       "  [105.0, 105.0, 120.0, 120.0],\n",
       "  [155.0, 155.0, 165.0, 165.0],\n",
       "  [145.0, 145.0, 160.0, 160.0],\n",
       "  [185.0, 185.0, 195.0, 195.0],\n",
       "  [175.0, 175.0, 190.0, 190.0],\n",
       "  [152.5, 152.5, 182.5, 182.5],\n",
       "  [135.0, 135.0, 167.5, 167.5],\n",
       "  [112.5, 112.5, 151.25, 151.25],\n",
       "  [71.25, 71.25, 131.875, 131.875],\n",
       "  [23.75, 23.75, 101.5625, 101.5625],\n",
       "  [5.0, 5.0, 62.65625, 62.65625]],\n",
       " 'dcoord': [[0.0, 0.004622414708137512, 0.004622414708137512, 0.0],\n",
       "  [0.0, 0.015034520888669325, 0.015034520888669325, 0.004622414708137512],\n",
       "  [0.0, 0.03939934922318701, 0.03939934922318701, 0.015034520888669325],\n",
       "  [0.0, 0.0016276761889457703, 0.0016276761889457703, 0.0],\n",
       "  [0.0, 0.0028087012469768524, 0.0028087012469768524, 0.0],\n",
       "  [0.0, 0.005559133665712132, 0.005559133665712132, 0.0028087012469768524],\n",
       "  [0.0016276761889457703,\n",
       "   0.01370652636203208,\n",
       "   0.01370652636203208,\n",
       "   0.005559133665712132],\n",
       "  [0.0, 0.0005189031362533569, 0.0005189031362533569, 0.0],\n",
       "  [0.0, 0.003427098789826176, 0.003427098789826176, 0.0005189031362533569],\n",
       "  [0.0, 3.912299871444702e-05, 3.912299871444702e-05, 0.0],\n",
       "  [0.0, 0.0006980176233222035, 0.0006980176233222035, 3.912299871444702e-05],\n",
       "  [0.0, 0.0002531465142965317, 0.0002531465142965317, 0.0],\n",
       "  [0.0, 0.0008300217356864759, 0.0008300217356864759, 0.0002531465142965317],\n",
       "  [0.0006980176233222035,\n",
       "   0.004001127247133576,\n",
       "   0.004001127247133576,\n",
       "   0.0008300217356864759],\n",
       "  [0.0, 0.0064972562349680085, 0.0064972562349680085, 0.004001127247133576],\n",
       "  [0.003427098789826176,\n",
       "   0.02595666027695757,\n",
       "   0.02595666027695757,\n",
       "   0.0064972562349680085],\n",
       "  [0.01370652636203208,\n",
       "   0.04545948760333729,\n",
       "   0.04545948760333729,\n",
       "   0.02595666027695757],\n",
       "  [0.03939934922318701,\n",
       "   0.1297034821085642,\n",
       "   0.1297034821085642,\n",
       "   0.04545948760333729],\n",
       "  [0.0, 1.3314463905707057, 1.3314463905707057, 0.1297034821085642]],\n",
       " 'ivl': ['OriginofSpecies',\n",
       "  'DescentofMan',\n",
       "  'FoundationsOriginofSpecies',\n",
       "  'VariationPlantsAnimalsDomestication',\n",
       "  'VoyageBeagle',\n",
       "  'DifferentFormsofFlowers',\n",
       "  'GeologicalObservationsSouthAmerica',\n",
       "  'LifeandLettersVol1',\n",
       "  'Autobiography',\n",
       "  'LifeandLettersVol2',\n",
       "  'MovementClimbingPlants',\n",
       "  'InsectivorousPlants',\n",
       "  'PowerMovementPlants',\n",
       "  'CoralReefs',\n",
       "  'FormationVegetableMould',\n",
       "  'EffectsCrossSelfFertilization',\n",
       "  'MonographCirripediaVol2',\n",
       "  'MonographCirripedia',\n",
       "  'ExpressionofEmotionManAnimals',\n",
       "  'VolcanicIslands'],\n",
       " 'leaves': [15,\n",
       "  2,\n",
       "  7,\n",
       "  17,\n",
       "  19,\n",
       "  3,\n",
       "  8,\n",
       "  10,\n",
       "  0,\n",
       "  11,\n",
       "  14,\n",
       "  9,\n",
       "  16,\n",
       "  1,\n",
       "  6,\n",
       "  4,\n",
       "  13,\n",
       "  12,\n",
       "  5,\n",
       "  18],\n",
       " 'color_list': ['g',\n",
       "  'g',\n",
       "  'g',\n",
       "  'g',\n",
       "  'g',\n",
       "  'g',\n",
       "  'g',\n",
       "  'g',\n",
       "  'g',\n",
       "  'g',\n",
       "  'g',\n",
       "  'g',\n",
       "  'g',\n",
       "  'g',\n",
       "  'g',\n",
       "  'g',\n",
       "  'g',\n",
       "  'g',\n",
       "  'b']}"
      ]
     },
     "execution_count": 33,
     "metadata": {},
     "output_type": "execute_result"
    },
    {
     "data": {
      "image/png": "[encoded data removed]",
      "text/plain": [
       "<Figure size 432x288 with 1 Axes>"
      ]
     },
     "metadata": {
      "needs_background": "light"
     },
     "output_type": "display_data"
    }
   ],
   "source": [
    "# Import libraries\n",
    "from scipy.cluster import hierarchy\n",
    "\n",
    "# Compute the clusters from the similarity matrix,\n",
    "# using the Ward variance minimization algorithm\n",
    "df = pd.DataFrame(v)\n",
    "Z = hierarchy.linkage(df, 'ward')\n",
    "\n",
    "\n",
    "# Display this result as a horizontal dendrogram\n",
    "hierarchy.dendrogram(Z, leaf_font_size=8, labels=sim_df.index, orientation=\"left\")\n"
   ]
  },
  {
   "cell_type": "code",
   "execution_count": null,
   "metadata": {},
   "outputs": [],
   "source": []
  },
  {
   "cell_type": "code",
   "execution_count": null,
   "metadata": {},
   "outputs": [],
   "source": []
  }
 ],
 "metadata": {
  "kernelspec": {
   "display_name": "Python 3",
   "language": "python",
   "name": "python3"
  },
  "language_info": {
   "codemirror_mode": {
    "name": "ipython",
    "version": 3
   },
   "file_extension": ".py",
   "mimetype": "text/x-python",
   "name": "python",
   "nbconvert_exporter": "python",
   "pygments_lexer": "ipython3",
   "version": "3.7.3"
  }
 },
 "nbformat": 4,
 "nbformat_minor": 2
}
